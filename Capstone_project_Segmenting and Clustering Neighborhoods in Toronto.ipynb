{
 "cells": [
  {
   "cell_type": "markdown",
   "metadata": {},
   "source": [
    "This notebook will be mainly used for the capstone project."
   ]
  },
  {
   "cell_type": "markdown",
   "metadata": {},
   "source": [
    "Code below is based on assumption that data in question located in first table with class = \"wikitable sortable\". Table should have at least 3 columns. What we do are:\n",
    "1. Getting table from HTML page using urllib2 and BeautifulSoup\n",
    "2. Iterating through BeautifulSoup rows to build DataFrame\n",
    "3. Deleting rows with Neighborhood column value equal to 'Not assigned'\n",
    "4. Finding rows with Borough column value equal to 'Not assigned' and replacing with Neighborhood column value\n",
    "5. Grouping by PostCode column, joining Neighborhood grouped values using comma\n",
    "6. Presenting results: df1.head() and df1.shape"
   ]
  },
  {
   "cell_type": "code",
   "execution_count": 101,
   "metadata": {},
   "outputs": [],
   "source": [
    "import pandas as pd\n",
    "import urllib.request as urllib2\n",
    "from bs4 import BeautifulSoup"
   ]
  },
  {
   "cell_type": "code",
   "execution_count": 102,
   "metadata": {},
   "outputs": [
    {
     "name": "stdout",
     "output_type": "stream",
     "text": [
      "  PostCode      Borough                            Neighborhood\n",
      "0      M1B  Scarborough                          Rouge, Malvern\n",
      "1      M1C  Scarborough  Highland Creek, Rouge Hill, Port Union\n",
      "2      M1E  Scarborough       Guildwood, Morningside, West Hill\n",
      "3      M1G  Scarborough                                  Woburn\n",
      "4      M1H  Scarborough                               Cedarbrae\n"
     ]
    }
   ],
   "source": [
    "html_doc = urllib2.urlopen('https://en.wikipedia.org/wiki/List_of_postal_codes_of_Canada:_M').read()\n",
    "soup = BeautifulSoup(html_doc, 'html.parser')\n",
    "#soup.pretiffy()\n",
    "table=soup.find('table', attrs={'class':'wikitable sortable'}) # , attrs={'class':'wikitable sortable'})\n",
    "l = []\n",
    "for tr in table.find_all('tr'):\n",
    "    td = tr.find_all('td')\n",
    "    if len(td) == 3:\n",
    "        row = [tr.text for tr in td]\n",
    "        l.append(row)\n",
    "df = pd.DataFrame(l, columns=['PostCode', 'Borough', 'Neighborhood']) \n",
    "df['Neighborhood'] = df['Neighborhood'].str.replace(\"\\n\", \"\")\n",
    "df.drop(df[df['Borough']=='Not assigned'].index, inplace=True)\n",
    "dfn1 = df.loc[df['Neighborhood']=='Not assigned']\n",
    "#dfn1.shape\n",
    "#print(dfn1)\n",
    "for i in dfn1.index:\n",
    "    df.at[i, 'Neighborhood'] = df.at[i, 'Borough']\n",
    "\n",
    "#print(soup)\n",
    "#df.groupby('PostCode')\n",
    "#df.groupby('PostCode')['Neighborhood'].apply(list)\n",
    "#print(df.groupby('PostCode').Neighborhood.agg([('count', 'count'), ('Neighborhood', ', '.join)]))\n",
    "#print(df.groupby('PostCode').Neighborhood.agg([('Neighborhood', ', '.join)]))\n",
    "#print(df.groupby('PostCode')['Neighborhood'].apply(lambda x: \"{%s}\" % ', '.join(x)))\n",
    "#print(df.groupby('PostCode')['Neighborhood'].apply(lambda x: x.sum()))\n",
    "#print(df.groupby('PostCode').agg({'Borough':'max', 'Neighborhood':', '.join})) \n",
    "df1 = df.groupby('PostCode').agg({'Borough':'max', 'Neighborhood':', '.join}).reset_index() #unique\n",
    "print(df1.head())\n",
    "#print(df1)\n"
   ]
  },
  {
   "cell_type": "code",
   "execution_count": 103,
   "metadata": {},
   "outputs": [
    {
     "data": {
      "text/plain": [
       "(103, 3)"
      ]
     },
     "execution_count": 103,
     "metadata": {},
     "output_type": "execute_result"
    }
   ],
   "source": [
    "df1.shape"
   ]
  },
  {
   "cell_type": "code",
   "execution_count": null,
   "metadata": {},
   "outputs": [],
   "source": []
  }
 ],
 "metadata": {
  "kernelspec": {
   "display_name": "Python 3",
   "language": "python",
   "name": "python3"
  },
  "language_info": {
   "codemirror_mode": {
    "name": "ipython",
    "version": 3
   },
   "file_extension": ".py",
   "mimetype": "text/x-python",
   "name": "python",
   "nbconvert_exporter": "python",
   "pygments_lexer": "ipython3",
   "version": "3.6.8"
  }
 },
 "nbformat": 4,
 "nbformat_minor": 2
}
